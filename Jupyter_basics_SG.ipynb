{
 "cells": [
  {
   "cell_type": "markdown",
   "metadata": {},
   "source": [
    "# Prosjekt Python #1:Bruke Jupyter\n",
    "Dette er notatboka hvor Sigrid oppsummerer progresjonen på Jupyter\n",
    "\n",
    "Som start har jeg sett denne videoen https://www.youtube.com/watch?v=HW29067qVWk\n",
    "\n",
    "Nyttige snarveier:\n",
    "Ctrl - Enter: kjører koden i den cella du er\n",
    "Enter: gå i edit mode\n",
    "\n",
    "## Markdown syntax\n",
    "* Overskrifter: #+space = H1, ##+space = H2\n",
    "* Italics: *tekst omsluttes av stjerne eller underscore*\n",
    "* BOld: **tekst omsluttes av to stjerner eller underscore**\n",
    "* Lister kan være enten tall, stjerner, minus eller pluss\n"
   ]
  },
  {
   "cell_type": "markdown",
   "metadata": {},
   "source": [
    "## Magics\n",
    "Magics er innebygde jupyter kommandoer. Kalles ved å bruke %. To typer Magics. Linemagics som kalles med % og cell magics som kalles med %% - gjør f.eks at man kan kalle på bash kommandoer uten å gå ut av Jupyter\n",
    "\n",
    "Nyttige Magics\n",
    "- %lsmag: lister alle Magics kommandoer.\n",
    "- %pwd:gir working directory\n",
    "- %ls: lister alle filer i direktory, evt. også med parametre f.eks. %ls - la for totallisten\n",
    "- %matplotlib inline: gjør at man kan bruke matlablib inn i notatboka og vise oppdaterte visualiseringer i nettleseren\n",
    "- %%HTML gjør at man kan kjøre html kode i notatboka. F.eks. som en iframe\n"
   ]
  },
  {
   "cell_type": "markdown",
   "metadata": {},
   "source": [
    "## Test på Matplotlib"
   ]
  },
  {
   "cell_type": "code",
   "execution_count": 21,
   "metadata": {},
   "outputs": [],
   "source": [
    "%matplotlib inline"
   ]
  },
  {
   "cell_type": "code",
   "execution_count": 23,
   "metadata": {},
   "outputs": [
    {
     "data": {
      "image/png": "[encoded data removed]",
      "text/plain": [
       "<matplotlib.figure.Figure at 0x1d9a0fb0c88>"
      ]
     },
     "metadata": {},
     "output_type": "display_data"
    }
   ],
   "source": [
    "import numpy as np\n",
    "import matplotlib.pyplot as plt\n",
    "\n",
    "def f(t):\n",
    "    return np.exp(-t) * np.cos(2*np.pi*t)\n",
    "\n",
    "t1 = np.arange(0.0, 5.0, 0.1)\n",
    "t2 = np.arange(0.0, 5.0, 0.02)\n",
    "\n",
    "plt.figure(1)\n",
    "plt.subplot(211)\n",
    "plt.plot(t1, f(t1), 'bo', t2, f(t2), 'k')\n",
    "\n",
    "plt.subplot(212)\n",
    "plt.plot(t2, np.cos(2*np.pi*t2), 'r--')\n",
    "plt.show()"
   ]
  },
  {
   "cell_type": "markdown",
   "metadata": {},
   "source": [
    "## Test på Rendering av HTML"
   ]
  },
  {
   "cell_type": "code",
   "execution_count": 26,
   "metadata": {},
   "outputs": [
    {
     "data": {
      "text/html": [
       "<iframe width=\"560\" height=\"315\" src=\"https://www.youtube.com/embed/HW29067qVWk\" frameborder=\"0\" allowfullscreen></iframe>"
      ],
      "text/plain": [
       "<IPython.core.display.HTML object>"
      ]
     },
     "metadata": {},
     "output_type": "display_data"
    }
   ],
   "source": [
    "%%html\n",
    "<iframe width=\"560\" height=\"315\" src=\"https://www.youtube.com/embed/HW29067qVWk\" frameborder=\"0\" allowfullscreen></iframe>"
   ]
  }
 ],
 "metadata": {
  "kernelspec": {
   "display_name": "Python 3",
   "language": "python",
   "name": "python3"
  },
  "language_info": {
   "codemirror_mode": {
    "name": "ipython",
    "version": 3
   },
   "file_extension": ".py",
   "mimetype": "text/x-python",
   "name": "python",
   "nbconvert_exporter": "python",
   "pygments_lexer": "ipython3",
   "version": "3.6.1"
  }
 },
 "nbformat": 4,
 "nbformat_minor": 2
}
